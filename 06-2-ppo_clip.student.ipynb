{
 "cells": [
  {
   "cell_type": "markdown",
   "id": "d56badda",
   "metadata": {},
   "source": [
    " Copyright © Sorbonne University.\n",
    "\n",
    " This source code is licensed under the MIT license found in the LICENSE file\n",
    " in the root directory of this source tree."
   ]
  },
  {
   "cell_type": "markdown",
   "id": "cfcbef4d",
   "metadata": {},
   "source": [
    "# Outlook\n",
    "\n",
    "In this notebook we code one version of the [Proximal Policy Optimization\n",
    "(PPO)](https://arxiv.org/pdf/1707.06347.pdf) algorithms using BBRL. More\n",
    "precisely, the version here is the one that clips the policy gradient.\n",
    "\n",
    "The PPO algorithm is superficially explained in [this\n",
    "video](https://www.youtube.com/watch?v=uRNL93jV2HE) and you can also read [the\n",
    "corresponding slides](http://pages.isir.upmc.fr/~sigaud/teach/ps/10_ppo.pdf).\n",
    "\n",
    "It is also a good idea to have a look at the [spinning up\n",
    "documentation](https://spinningup.openai.com/en/latest/algorithms/ppo.html).\n",
    "\n",
    "This version of PPO works, but it incorrectly samples minibatches randomly\n",
    "from the rollouts without making sure that each sample is used once and only\n",
    "once See:\n",
    "https://iclr-blog-track.github.io/2022/03/25/ppo-implementation-details/ for a\n",
    "full description of all the coding tricks that should be integrated\n",
    "\n",
    "# Setting up the environment\n",
    "We first need to setup the environment\n",
    "Installs the necessary Python and system libraries"
   ]
  },
  {
   "cell_type": "markdown",
   "id": "77f70e2a",
   "metadata": {},
   "source": [
    "# Setting up the environment\n",
    "We first need to setup the environment\n",
    "Installs the necessary Python and system libraries"
   ]
  },
  {
   "cell_type": "code",
   "execution_count": 1,
   "id": "9e4025a3",
   "metadata": {},
   "outputs": [
    {
     "name": "stderr",
     "output_type": "stream",
     "text": [
      "/home/wujinyi/miniconda3/envs/deepdac/lib/python3.9/site-packages/bbrl_utils/notebook.py:46: TqdmExperimentalWarning: Using `tqdm.autonotebook.tqdm` in notebook mode. Use `tqdm.tqdm` instead to force console mode (e.g. in jupyter console)\n",
      "  from tqdm.autonotebook import tqdm  # noqa: F401\n",
      "error: XDG_RUNTIME_DIR not set in the environment.\n"
     ]
    }
   ],
   "source": [
    "try:\n",
    "    from easypip import easyimport\n",
    "except ModuleNotFoundError:\n",
    "    from subprocess import run\n",
    "    assert run([\"pip\", \"install\", \"easypip\"]).returncode == 0, \"Could not install easypip\"\n",
    "    from easypip import easyimport\n",
    "\n",
    "easyimport(\"swig\")\n",
    "easyimport(\"bbrl_utils\").setup()\n",
    "\n",
    "import copy\n",
    "import os\n",
    "\n",
    "import torch\n",
    "import torch.nn as nn\n",
    "from bbrl.agents import Agent, Agents, KWAgentWrapper, TemporalAgent\n",
    "from bbrl_utils.algorithms import EpisodicAlgo, iter_partial_episodes\n",
    "from bbrl_utils.nn import build_ortho_mlp, setup_optimizer\n",
    "from bbrl_utils.notebook import setup_tensorboard\n",
    "from omegaconf import OmegaConf\n",
    "\n",
    "from bbrl_utils.nn import copy_parameters"
   ]
  },
  {
   "cell_type": "markdown",
   "id": "7050d057",
   "metadata": {},
   "source": [
    "# Learning environment\n",
    "\n",
    "## Configuration\n",
    "\n",
    "The learning environment is controlled by a configuration that define a few\n",
    "important things as described in the example below. This configuration can\n",
    "hold as many extra information as you need, the example below is the minimal\n",
    "one.\n",
    "\n",
    "```python\n",
    "params = {\n",
    "    # This defines the a path for logs and saved models\n",
    "    \"base_dir\": \"${gym_env.env_name}/myalgo_${current_time:}\",\n",
    "\n",
    "    # The Gymnasium environment\n",
    "    \"gym_env\": {\n",
    "        \"env_name\": \"CartPoleContinuous-v1\",\n",
    "    },\n",
    "\n",
    "    # Algorithm\n",
    "    \"algorithm\": {\n",
    "        # Seed used for the random number generator\n",
    "        \"seed\": 1023,\n",
    "\n",
    "        # Number of parallel training environments\n",
    "        \"n_envs\": 8,\n",
    "                \n",
    "        # Minimum number of steps between two evaluations\n",
    "        \"eval_interval\": 500,\n",
    "        \n",
    "        # Number of parallel evaluation environments\n",
    "        \"nb_evals\": 10,\n",
    "\n",
    "        # Number of epochs (loops)\n",
    "        \"max_epochs\": 40000,\n",
    "\n",
    "        # Number of steps (partial iteration)\n",
    "        \"n_steps\": 100,\n",
    "        \n",
    "    },\n",
    "}\n",
    "\n",
    "# Creates the configuration object, i.e. cfg.algorithm.nb_evals is 10\n",
    "cfg = OmegaConf.create(params)\n",
    "```\n",
    "\n",
    "## The RL algorithm\n",
    "\n",
    "In this notebook, the RL algorithm is based on `EpisodicAlgo`, that defines\n",
    "the algorithm environment when using episodes. To use such environment, we\n",
    "just need to subclass `EpisodicAlgo` and to define two things, namely the\n",
    "`train_policy` and the `eval_policy`. Both are BBRL agents that, given the\n",
    "environment state, select the action to perform.\n",
    "\n",
    "```py\n",
    "  class MyAlgo(EpisodicAlgo):\n",
    "      def __init__(self, cfg):\n",
    "          super().__init__(cfg)\n",
    "\n",
    "          # Define the train and evaluation policies\n",
    "          # (the agents compute the workspace `action` variable)\n",
    "          self.train_policy = MyPolicyAgent(...)\n",
    "          self.eval_policy = MyEvalAgent(...)\n",
    "\n",
    "algo = MyAlgo(cfg)\n",
    "```\n",
    "\n",
    "The `EpisodicAlgo` defines useful objects:\n",
    "\n",
    "- `algo.cfg` is the configuration\n",
    "- `algo.nb_steps` (integer) is the number of steps since the training began\n",
    "- `algo.logger` is a logger that can be used to collect statistics during training:\n",
    "    - `algo.logger.add_log(\"critic_loss\", critic_loss, algo.nb_steps)` registers the `critic_loss` value on tensorboard\n",
    "- `algo.evaluate()` evaluates the current `eval_policy` if needed, and keeps the\n",
    "agent if it was the best so far (average cumulated reward);\n",
    "- `algo.visualize_best()` runs the best agent on one episode, and displays the video\n",
    "\n",
    "\n",
    "\n",
    "Besides, it also defines an `iter_episodes` that allows to iterate over partial\n",
    "episodes (with `n_steps` from `n_envs` environments):\n",
    "\n",
    "```python3\n",
    "  # with partial episodes\n",
    "  for workspace in algo.iter_partial_episodes():\n",
    "      # workspace is a workspace containing 50 transitions\n",
    "      # (with autoreset)\n",
    "      ...\n",
    "```"
   ]
  },
  {
   "cell_type": "markdown",
   "id": "113d38f9",
   "metadata": {
    "lines_to_next_cell": 2
   },
   "source": [
    "# Definition of PPO agents\n",
    "\n",
    "## Critic agent\n",
    "\n",
    "As A2C, PPO uses a value function $V(s)$. We thus call upon the `VAgent`\n",
    "class,  which takes an observation as input and whose output is the value of\n",
    "this observation."
   ]
  },
  {
   "cell_type": "code",
   "execution_count": 2,
   "id": "e36e59c6",
   "metadata": {
    "lines_to_next_cell": 2
   },
   "outputs": [],
   "source": [
    "class VAgent(Agent):\n",
    "    def __init__(self, state_dim, hidden_layers, name=\"critic\"):\n",
    "        super().__init__(name)\n",
    "        self.is_q_function = False\n",
    "        self.model = build_ortho_mlp(\n",
    "            [state_dim] + list(hidden_layers) + [1], activation=nn.ReLU()\n",
    "        )\n",
    "\n",
    "    def forward(self, t, **kwargs):\n",
    "        observation = self.get((\"env/env_obs\", t))\n",
    "        critic = self.model(observation).squeeze(-1)\n",
    "        self.set((f\"{self.prefix}v_values\", t), critic)"
   ]
  },
  {
   "cell_type": "markdown",
   "id": "df2e7827",
   "metadata": {
    "lines_to_next_cell": 2
   },
   "source": [
    "## The DiscretePolicy\n",
    "\n",
    "The DiscretePolicy was already used in A2C to deal with discrete actions, but\n",
    "we have added the possibility to only predict the probability of an action\n",
    "using the ```predict_proba``` variable in the ```forward()``` function. The\n",
    "code is as follows."
   ]
  },
  {
   "cell_type": "code",
   "execution_count": 3,
   "id": "807c0043",
   "metadata": {},
   "outputs": [],
   "source": [
    "class DiscretePolicy(Agent):\n",
    "    def __init__(self, state_dim, hidden_size, n_actions, name=\"policy\"):\n",
    "        super().__init__(name=name)\n",
    "        self.model = build_ortho_mlp(\n",
    "            [state_dim] + list(hidden_size) + [n_actions], activation=nn.ReLU()\n",
    "        )\n",
    "\n",
    "    def dist(self, obs):\n",
    "        scores = self.model(obs)\n",
    "        probs = torch.softmax(scores, dim=-1)\n",
    "        return torch.distributions.Categorical(probs)\n",
    "\n",
    "    def forward(\n",
    "        self,\n",
    "        t,\n",
    "        *,\n",
    "        stochastic=True,\n",
    "        predict_proba=False,\n",
    "        compute_entropy=False,\n",
    "        **kwargs,\n",
    "    ):\n",
    "        \"\"\"\n",
    "        Compute the action given either a time step (looking into the workspace)\n",
    "        or an observation (in kwargs)\n",
    "        \"\"\"\n",
    "        observation = self.get((\"env/env_obs\", t))\n",
    "        scores = self.model(observation)\n",
    "        probs = torch.softmax(scores, dim=-1)\n",
    "\n",
    "        if predict_proba:\n",
    "            action = self.get((\"action\", t))\n",
    "            log_probs = probs[torch.arange(probs.size()[0]), action].log()\n",
    "            self.set((f\"{self.prefix}logprob_predict\", t), log_probs)\n",
    "        else:\n",
    "            if stochastic:\n",
    "                action = torch.distributions.Categorical(probs).sample()\n",
    "            else:\n",
    "                action = scores.argmax(1)\n",
    "            self.set((\"action\", t), action)\n",
    "\n",
    "        if compute_entropy:\n",
    "            entropy = torch.distributions.Categorical(probs).entropy()\n",
    "            self.set((f\"{self.prefix}entropy\", t), entropy)"
   ]
  },
  {
   "cell_type": "markdown",
   "id": "b9b988e1",
   "metadata": {
    "lines_to_next_cell": 2
   },
   "source": [
    "### Main PPO agent\n",
    "\n",
    "In the following, we create the PPO Agent, with one policy and one critic,\n",
    "and their \"delayed\" versions (target network for the critic, and previous \n",
    "policy in the inner loop of the optimization)."
   ]
  },
  {
   "cell_type": "code",
   "execution_count": 4,
   "id": "f2b2213d",
   "metadata": {
    "lines_to_next_cell": 1
   },
   "outputs": [],
   "source": [
    "class PPOClip(EpisodicAlgo):\n",
    "    def __init__(self, cfg):\n",
    "        super().__init__(cfg, autoreset=True)\n",
    "        obs_size, act_size = self.train_env.get_obs_and_actions_sizes()\n",
    "\n",
    "        self.train_policy = globals()[cfg.algorithm.policy_type](\n",
    "            obs_size,\n",
    "            cfg.algorithm.architecture.actor_hidden_size,\n",
    "            act_size,\n",
    "        ).with_prefix(\"current_policy/\")\n",
    "\n",
    "        self.eval_policy = KWAgentWrapper(\n",
    "            self.train_policy, \n",
    "            stochastic=False,\n",
    "            predict_proba=False,\n",
    "            compute_entropy=False,\n",
    "        )\n",
    "\n",
    "        self.critic_agent = VAgent(\n",
    "            obs_size, cfg.algorithm.architecture.critic_hidden_size\n",
    "        ).with_prefix(\"critic/\")\n",
    "        self.old_critic_agent = copy.deepcopy(self.critic_agent).with_prefix(\"old_critic/\")\n",
    "\n",
    "        self.old_policy = copy.deepcopy(self.train_policy)\n",
    "        self.old_policy.with_prefix(\"old_policy/\")\n",
    "\n",
    "        self.policy_optimizer = setup_optimizer(\n",
    "            cfg.optimizer, self.train_policy\n",
    "        )\n",
    "        self.critic_optimizer = setup_optimizer(\n",
    "            cfg.optimizer, self.critic_agent\n",
    "        )"
   ]
  },
  {
   "cell_type": "markdown",
   "id": "c0be8698",
   "metadata": {},
   "source": [
    "In the cell below, we optimize the policy loss for PPO-clip, i.e.\n",
    "\n",
    "$$\n",
    "L^{C L I P}(\\theta)=\\hat{\\mathbb{E}}_t\\left[\\min \\left(r_t(\\theta) \\hat{A}_t, \\operatorname{clip}\\left(r_t(\\theta), 1-\\epsilon, 1+\\epsilon\\right) \\hat{A}_t\\right)\\right]\n",
    "$$\n",
    "where $$r_t(\\theta) = \\frac{\\pi_\\theta\\left(a_t \\mid s_t\\right)}{\\pi_{\\theta_{\\text {old }}}\\left(a_t \\mid s_t\\right)}$$\n",
    "\n",
    "Useful torch functions:\n",
    "- [torch.clamp](https://pytorch.org/docs/stable/generated/torch.clamp.html) computes $\\min(\\max(x_i, m_i), M_i)$ where $m_i$ and $M_i$ are the lower and upper bounds respectively"
   ]
  },
  {
   "cell_type": "code",
   "execution_count": 5,
   "id": "f9074ac8",
   "metadata": {},
   "outputs": [],
   "source": [
    "from bbrl.utils.functional import gae\n",
    "\n",
    "def run(ppo_clip: PPOClip):\n",
    "    cfg = ppo_clip.cfg\n",
    "\n",
    "    t_policy = TemporalAgent(ppo_clip.train_policy)\n",
    "    t_old_policy = TemporalAgent(ppo_clip.old_policy)\n",
    "    t_critic = TemporalAgent(ppo_clip.critic_agent)\n",
    "    t_old_critic = TemporalAgent(ppo_clip.old_critic_agent)\n",
    "\n",
    "    for train_workspace in iter_partial_episodes(\n",
    "        ppo_clip, cfg.algorithm.n_steps\n",
    "    ):\n",
    "        # Run the current policy and evaluate the proba of its action according\n",
    "        # to the old policy The old_policy can be run after the train_agent on\n",
    "        # the same workspace because it writes a logprob_predict and not an\n",
    "        # action. That is, it does not determine the action of the old_policy,\n",
    "        # it just determines the proba of the action of the current policy given\n",
    "        # its own probabilities\n",
    "\n",
    "        with torch.no_grad():\n",
    "            t_old_policy(\n",
    "                train_workspace,\n",
    "                t=0,\n",
    "                n_steps=cfg.algorithm.n_steps,\n",
    "                # Just computes the probability of the old policy's action\n",
    "                # to get the ratio of probabilities\n",
    "                predict_proba=True,\n",
    "                compute_entropy=True,\n",
    "            )\n",
    "\n",
    "        # Compute the critic value over the whole workspace\n",
    "        t_critic(train_workspace, t=0, n_steps=cfg.algorithm.n_steps)\n",
    "        with torch.no_grad():\n",
    "            t_old_critic(train_workspace, t=0, n_steps=cfg.algorithm.n_steps)\n",
    "\n",
    "        ws_terminated, ws_reward, ws_v_value, ws_old_v_value = train_workspace[\n",
    "            \"env/terminated\",\n",
    "            \"env/reward\",\n",
    "            \"critic/v_values\",\n",
    "            \"old_critic/v_values\",\n",
    "        ]\n",
    "\n",
    "        # the critic values are clamped to move not too far away from the values of the previous critic\n",
    "        if cfg.algorithm.clip_range_vf > 0:\n",
    "            # Clip the difference between old and new values\n",
    "            # NOTE: this depends on the reward scaling\n",
    "            ws_v_value = ws_old_v_value + torch.clamp(\n",
    "                ws_v_value - ws_old_v_value,\n",
    "                -cfg.algorithm.clip_range_vf,\n",
    "                cfg.algorithm.clip_range_vf,\n",
    "            )\n",
    "\n",
    "        # Compute the advantage using the (clamped) critic values\n",
    "        with torch.no_grad():\n",
    "            advantage = gae(\n",
    "                ws_reward[1:],\n",
    "                ws_v_value[1:],\n",
    "                ~ws_terminated[1:],\n",
    "                ws_v_value[:-1],\n",
    "                cfg.algorithm.discount_factor,\n",
    "                cfg.algorithm.gae,\n",
    "            )\n",
    "\n",
    "        ppo_clip.critic_optimizer.zero_grad()\n",
    "        target = ws_reward[1:] + cfg.algorithm.discount_factor * ws_old_v_value[1:].detach() * (1 - ws_terminated[1:].int())\n",
    "        critic_loss = torch.nn.functional.mse_loss(ws_v_value[:-1], target) * cfg.algorithm.critic_coef\n",
    "        critic_loss.backward()\n",
    "        torch.nn.utils.clip_grad_norm_(\n",
    "            ppo_clip.critic_agent.parameters(), cfg.algorithm.max_grad_norm\n",
    "        )\n",
    "        ppo_clip.critic_optimizer.step()\n",
    "\n",
    "        # We store the advantage into the transition_workspace\n",
    "        if cfg.algorithm.normalize_advantage and advantage.shape[1] > 1:\n",
    "            advantage = (advantage - advantage.mean()) / (advantage.std() + 1e-8)\n",
    "        train_workspace.set_full(\"advantage\", torch.cat(\n",
    "            (advantage, torch.zeros(1, advantage.shape[1]))\n",
    "        ))\n",
    "        transition_workspace = train_workspace.get_transitions()\n",
    "\n",
    "        # Inner optimization loop: we sample transitions and use them to learn\n",
    "        # the policy\n",
    "        for opt_epoch in range(cfg.algorithm.opt_epochs):\n",
    "            if cfg.algorithm.batch_size > 0:\n",
    "                sample_workspace = transition_workspace.select_batch_n(\n",
    "                    cfg.algorithm.batch_size\n",
    "                )\n",
    "            else:\n",
    "                sample_workspace = transition_workspace\n",
    "\n",
    "            # Compute the policy loss\n",
    "\n",
    "            # Compute the probability of the played actions according to the current policy\n",
    "            # We do not replay the action: we use the one stored into the dataset\n",
    "            # Hence predict_proba=True\n",
    "            # Note that the policy is not wrapped into a TemporalAgent, but we use a single step\n",
    "            ppo_clip.train_policy(\n",
    "                sample_workspace,\n",
    "                t=1,\n",
    "                n_steps=cfg.algorithm.n_steps,\n",
    "                predict_proba=True,\n",
    "                compute_entropy=True,\n",
    "            )\n",
    "            # Compute the ratio of action probabilities\n",
    "            ratio = (sample_workspace[\"current_policy/logprob_predict\"] - sample_workspace[\"old_policy/logprob_predict\"]).exp()\n",
    "            # Compute the policy loss\n",
    "            # (using cfg.algorithm.clip_range and torch.clamp)\n",
    "            policy_advantage = sample_workspace[\"advantage\"]\n",
    "            policy_loss = torch.mean(torch.minimum(\n",
    "                ratio * policy_advantage,\n",
    "                torch.clamp(ratio, min=1 - cfg.algorithm.clip_range, max=1 + cfg.algorithm.clip_range) * policy_advantage\n",
    "            ))\n",
    "            # assert False, 'Not implemented yet'\n",
    "\n",
    "\n",
    "            loss_policy = -cfg.algorithm.policy_coef * policy_loss\n",
    "\n",
    "            # Entropy loss favors exploration Note that the standard PPO\n",
    "            # algorithms do not have an entropy term, they don't need it because\n",
    "            # the KL term is supposed to deal with exploration So, to run the\n",
    "            # standard PPO algorithm, you should set\n",
    "            # cfg.algorithm.entropy_coef=0\n",
    "            entropy = sample_workspace[\"current_policy/entropy\"]\n",
    "            # assert len(entropy) == 1, f\"{entropy.shape}\"\n",
    "            entropy_loss = entropy[0].mean()\n",
    "            loss_entropy = -cfg.algorithm.entropy_coef * entropy_loss\n",
    "\n",
    "            # Store the losses for tensorboard display\n",
    "            ppo_clip.logger.log_losses(\n",
    "                critic_loss, entropy_loss, policy_loss, ppo_clip.nb_steps\n",
    "            )\n",
    "            ppo_clip.logger.add_log(\n",
    "                \"advantage\", policy_advantage[0].mean(), ppo_clip.nb_steps\n",
    "            )\n",
    "\n",
    "            loss = loss_policy + loss_entropy\n",
    "\n",
    "            ppo_clip.policy_optimizer.zero_grad()\n",
    "            loss.backward()\n",
    "            torch.nn.utils.clip_grad_norm_(\n",
    "                ppo_clip.train_policy.parameters(), cfg.algorithm.max_grad_norm\n",
    "            )\n",
    "            ppo_clip.policy_optimizer.step()\n",
    "\n",
    "        # Copy parameters\n",
    "        copy_parameters(ppo_clip.train_policy, ppo_clip.old_policy)\n",
    "        copy_parameters(ppo_clip.critic_agent, ppo_clip.old_critic_agent)\n",
    "\n",
    "        # Evaluates our current algorithm if needed\n",
    "        ppo_clip.evaluate()"
   ]
  },
  {
   "cell_type": "markdown",
   "id": "d3294d8c",
   "metadata": {},
   "source": [
    "# Definition of the parameters"
   ]
  },
  {
   "cell_type": "code",
   "execution_count": 6,
   "id": "608c8a59",
   "metadata": {},
   "outputs": [],
   "source": [
    "params = {\n",
    "    \"base_dir\": \"${gym_env.env_name}/ppo-clip-S${algorithm.seed}_${current_time:}\",\n",
    "    \"save_best\": False,\n",
    "    \"logger\": {\n",
    "        \"classname\": \"bbrl.utils.logger.TFLogger\",\n",
    "        \"cache_size\": 10000,\n",
    "        \"every_n_seconds\": 10,\n",
    "        \"verbose\": False,\n",
    "    },\n",
    "    \"algorithm\": {\n",
    "        \"seed\": 12,\n",
    "        \"max_grad_norm\": 0.5,\n",
    "        \"n_envs\": 8,\n",
    "        \"n_steps\": 32,\n",
    "        \"eval_interval\": 1000,\n",
    "        \"nb_evals\": 10,\n",
    "        \"gae\": 0.8,\n",
    "        \"discount_factor\": 0.98,\n",
    "        \"normalize_advantage\": False,\n",
    "        \"max_epochs\": 2_000,\n",
    "        \"opt_epochs\": 10,\n",
    "        \"batch_size\": 256,\n",
    "        \"clip_range\": 0.2,\n",
    "        \"clip_range_vf\": 0,\n",
    "        \"entropy_coef\": 2e-7,\n",
    "        \"policy_coef\": 1,\n",
    "        \"critic_coef\": 1.0,\n",
    "        \"policy_type\": \"DiscretePolicy\",\n",
    "        \"architecture\": {\n",
    "            \"actor_hidden_size\": [64, 64],\n",
    "            \"critic_hidden_size\": [64, 64],\n",
    "        },\n",
    "    },\n",
    "    \"gym_env\": {\n",
    "        \"env_name\": \"CartPole-v1\",\n",
    "    },\n",
    "    \"optimizer\": {\n",
    "        \"classname\": \"torch.optim.AdamW\",\n",
    "        \"lr\": 1e-3,\n",
    "        \"eps\": 1e-5,\n",
    "    },\n",
    "}"
   ]
  },
  {
   "cell_type": "markdown",
   "id": "29631f73",
   "metadata": {},
   "source": [
    "## Launching tensorboard to visualize the results"
   ]
  },
  {
   "cell_type": "code",
   "execution_count": 7,
   "id": "dcc32c4a",
   "metadata": {
    "title": "For Colab - otherwise, it is easier and better to launch tensorboard from"
   },
   "outputs": [
    {
     "data": {
      "text/plain": [
       "Reusing TensorBoard on port 6006 (pid 10818), started 14 days, 6:49:28 ago. (Use '!kill 10818' to kill it.)"
      ]
     },
     "metadata": {},
     "output_type": "display_data"
    },
    {
     "data": {
      "text/html": [
       "\n",
       "      <iframe id=\"tensorboard-frame-982f0f33968c5ce5\" width=\"100%\" height=\"800\" frameborder=\"0\">\n",
       "      </iframe>\n",
       "      <script>\n",
       "        (function() {\n",
       "          const frame = document.getElementById(\"tensorboard-frame-982f0f33968c5ce5\");\n",
       "          const url = new URL(\"http://localhost\");\n",
       "          const port = 6006;\n",
       "          if (port) {\n",
       "            url.port = port;\n",
       "          }\n",
       "          frame.src = url;\n",
       "        })();\n",
       "      </script>\n",
       "    "
      ],
      "text/plain": [
       "<IPython.core.display.HTML object>"
      ]
     },
     "metadata": {},
     "output_type": "display_data"
    }
   ],
   "source": [
    "# the terminal\n",
    "\n",
    "setup_tensorboard(\"./outputs/tblogs\")"
   ]
  },
  {
   "cell_type": "code",
   "execution_count": 8,
   "id": "71af5853",
   "metadata": {},
   "outputs": [
    {
     "name": "stderr",
     "output_type": "stream",
     "text": [
      "2024-10-21 22:42:07.453336: E external/local_xla/xla/stream_executor/cuda/cuda_fft.cc:485] Unable to register cuFFT factory: Attempting to register factory for plugin cuFFT when one has already been registered\n",
      "2024-10-21 22:42:07.499731: E external/local_xla/xla/stream_executor/cuda/cuda_dnn.cc:8454] Unable to register cuDNN factory: Attempting to register factory for plugin cuDNN when one has already been registered\n",
      "2024-10-21 22:42:07.521479: E external/local_xla/xla/stream_executor/cuda/cuda_blas.cc:1452] Unable to register cuBLAS factory: Attempting to register factory for plugin cuBLAS when one has already been registered\n",
      "2024-10-21 22:42:07.616891: I tensorflow/core/platform/cpu_feature_guard.cc:210] This TensorFlow binary is optimized to use available CPU instructions in performance-critical operations.\n",
      "To enable the following instructions: AVX2 FMA, in other operations, rebuild TensorFlow with the appropriate compiler flags.\n",
      "2024-10-21 22:42:09.937663: W tensorflow/compiler/tf2tensorrt/utils/py_utils.cc:38] TF-TRT Warning: Could not find TensorRT\n"
     ]
    },
    {
     "data": {
      "application/vnd.jupyter.widget-view+json": {
       "model_id": "b31e15e7e0fd41b08267ed91e0f4e33e",
       "version_major": 2,
       "version_minor": 0
      },
      "text/plain": [
       "  0%|          | 0/2000 [00:00<?, ?it/s]"
      ]
     },
     "metadata": {},
     "output_type": "display_data"
    }
   ],
   "source": [
    "ppo_clip = PPOClip(OmegaConf.create(params))\n",
    "run(ppo_clip)"
   ]
  },
  {
   "cell_type": "code",
   "execution_count": 9,
   "id": "1afe2431",
   "metadata": {},
   "outputs": [
    {
     "name": "stdout",
     "output_type": "stream",
     "text": [
      "Video of best agent recorded in outputs/CartPole-v1/ppo-clip-S12_20241021-224205/best_agent.mp4\n",
      "Moviepy - Building video /home/wujinyi/sorbonnefile/RLD/outputs/CartPole-v1/ppo-clip-S12_20241021-224205/best_agent.mp4.\n",
      "Moviepy - Writing video /home/wujinyi/sorbonnefile/RLD/outputs/CartPole-v1/ppo-clip-S12_20241021-224205/best_agent.mp4\n",
      "\n"
     ]
    },
    {
     "name": "stderr",
     "output_type": "stream",
     "text": [
      "                                                               \r"
     ]
    },
    {
     "name": "stdout",
     "output_type": "stream",
     "text": [
      "Moviepy - Done !\n",
      "Moviepy - video ready /home/wujinyi/sorbonnefile/RLD/outputs/CartPole-v1/ppo-clip-S12_20241021-224205/best_agent.mp4\n"
     ]
    },
    {
     "data": {
      "text/html": [
       "<div align=middle><video src='data:video/mp4;base64,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' controls>Sorry, seems like your browser doesn't support HTML5 audio/video</video></div>"
      ],
      "text/plain": [
       "<moviepy.video.io.html_tools.HTML2 object>"
      ]
     },
     "execution_count": 9,
     "metadata": {},
     "output_type": "execute_result"
    }
   ],
   "source": [
    "ppo_clip.visualize_best()"
   ]
  },
  {
   "cell_type": "code",
   "execution_count": null,
   "id": "cf0e0585",
   "metadata": {},
   "outputs": [],
   "source": []
  }
 ],
 "metadata": {
  "jupytext": {
   "cell_markers": "\"\"\""
  },
  "kernelspec": {
   "display_name": "Python (deepdac)",
   "language": "python",
   "name": "deepdac"
  },
  "language_info": {
   "codemirror_mode": {
    "name": "ipython",
    "version": 3
   },
   "file_extension": ".py",
   "mimetype": "text/x-python",
   "name": "python",
   "nbconvert_exporter": "python",
   "pygments_lexer": "ipython3",
   "version": "3.9.19"
  }
 },
 "nbformat": 4,
 "nbformat_minor": 5
}
