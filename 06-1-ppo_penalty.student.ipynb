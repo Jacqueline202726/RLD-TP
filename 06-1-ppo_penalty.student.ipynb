{
 "cells": [
  {
   "cell_type": "markdown",
   "id": "20641996",
   "metadata": {},
   "source": [
    " Copyright © Sorbonne University.\n",
    "\n",
    " This source code is licensed under the MIT license found in the LICENSE file\n",
    " in the root directory of this source tree."
   ]
  },
  {
   "cell_type": "markdown",
   "id": "7901a134",
   "metadata": {},
   "source": [
    "# Outlook\n",
    "\n",
    "In this notebook we code one version of the [Proximal Policy Optimization\n",
    "(PPO)](https://arxiv.org/pdf/1707.06347.pdf) algorithms using BBRL. More\n",
    "precisely, the version here is the one that uses the KL penalty as a\n",
    "regularization term when optimizing the policy gradient.\n",
    "\n",
    "The PPO algorithm is superficially explained in [this\n",
    "video](https://www.youtube.com/watch?v=uRNL93jV2HE) and you can also read [the\n",
    "corresponding slides](http://pages.isir.upmc.fr/~sigaud/teach/ps/10_ppo.pdf).\n",
    "\n",
    "It is also a good idea to have a look at the [spinning up\n",
    "documentation](https://spinningup.openai.com/en/latest/algorithms/ppo.html).\n",
    "\n",
    "This version of PPO works, but it incorrectly samples minibatches randomly\n",
    "from the rollouts without making sure that each sample is used once and only\n",
    "once See:\n",
    "https://iclr-blog-track.github.io/2022/03/25/ppo-implementation-details/ for a\n",
    "full description of all the coding tricks that should be integrated"
   ]
  },
  {
   "cell_type": "markdown",
   "id": "15468657",
   "metadata": {},
   "source": [
    "# Setting up the environment\n",
    "We first need to setup the environment\n",
    "Installs the necessary Python and system libraries"
   ]
  },
  {
   "cell_type": "code",
   "execution_count": 1,
   "id": "d9858ab5",
   "metadata": {},
   "outputs": [
    {
     "name": "stderr",
     "output_type": "stream",
     "text": [
      "/home/wujinyi/miniconda3/envs/deepdac/lib/python3.9/site-packages/bbrl_utils/notebook.py:46: TqdmExperimentalWarning: Using `tqdm.autonotebook.tqdm` in notebook mode. Use `tqdm.tqdm` instead to force console mode (e.g. in jupyter console)\n",
      "  from tqdm.autonotebook import tqdm  # noqa: F401\n",
      "error: XDG_RUNTIME_DIR not set in the environment.\n"
     ]
    }
   ],
   "source": [
    "try:\n",
    "    from easypip import easyimport\n",
    "except ModuleNotFoundError:\n",
    "    from subprocess import run\n",
    "    assert run([\"pip\", \"install\", \"easypip\"]).returncode == 0, \"Could not install easypip\"\n",
    "    from easypip import easyimport\n",
    "\n",
    "easyimport(\"swig\")\n",
    "easyimport(\"bbrl_utils\").setup()\n",
    "\n",
    "import copy\n",
    "import os\n",
    "\n",
    "import torch\n",
    "import torch.nn as nn\n",
    "from bbrl.agents import Agent, Agents, KWAgentWrapper, TemporalAgent\n",
    "from bbrl_utils.algorithms import EpisodicAlgo, iter_partial_episodes\n",
    "from bbrl_utils.nn import build_ortho_mlp, setup_optimizer\n",
    "from bbrl_utils.notebook import setup_tensorboard\n",
    "from omegaconf import OmegaConf\n",
    "\n",
    "from bbrl_utils.nn import copy_parameters"
   ]
  },
  {
   "cell_type": "markdown",
   "id": "a4c90c8e",
   "metadata": {},
   "source": [
    "# Learning environment\n",
    "\n",
    "## Configuration\n",
    "\n",
    "The learning environment is controlled by a configuration that define a few\n",
    "important things as described in the example below. This configuration can\n",
    "hold as many extra information as you need, the example below is the minimal\n",
    "one.\n",
    "\n",
    "```python\n",
    "params = {\n",
    "    # This defines the a path for logs and saved models\n",
    "    \"base_dir\": \"${gym_env.env_name}/myalgo_${current_time:}\",\n",
    "\n",
    "    # The Gymnasium environment\n",
    "    \"gym_env\": {\n",
    "        \"env_name\": \"CartPoleContinuous-v1\",\n",
    "    },\n",
    "\n",
    "    # Algorithm\n",
    "    \"algorithm\": {\n",
    "        # Seed used for the random number generator\n",
    "        \"seed\": 1023,\n",
    "\n",
    "        # Number of parallel training environments\n",
    "        \"n_envs\": 8,\n",
    "                \n",
    "        # Minimum number of steps between two evaluations\n",
    "        \"eval_interval\": 500,\n",
    "        \n",
    "        # Number of parallel evaluation environments\n",
    "        \"nb_evals\": 10,\n",
    "\n",
    "        # Number of epochs (loops)\n",
    "        \"max_epochs\": 40000,\n",
    "\n",
    "        # Number of steps (partial iteration)\n",
    "        \"n_steps\": 100,\n",
    "        \n",
    "    },\n",
    "}\n",
    "\n",
    "# Creates the configuration object, i.e. cfg.algorithm.nb_evals is 10\n",
    "cfg = OmegaConf.create(params)\n",
    "```\n",
    "\n",
    "## The RL algorithm\n",
    "\n",
    "In this notebook, the RL algorithm is based on `EpisodicAlgo`, that defines\n",
    "the algorithm environment when using episodes. To use such environment, we\n",
    "just need to subclass `EpisodicAlgo` and to define two things, namely the\n",
    "`train_policy` and the `eval_policy`. Both are BBRL agents that, given the\n",
    "environment state, select the action to perform.\n",
    "\n",
    "```py\n",
    "  class MyAlgo(EpisodicAlgo):\n",
    "      def __init__(self, cfg):\n",
    "          super().__init__(cfg)\n",
    "\n",
    "          # Define the train and evaluation policies\n",
    "          # (the agents compute the workspace `action` variable)\n",
    "          self.train_policy = MyPolicyAgent(...)\n",
    "          self.eval_policy = MyEvalAgent(...)\n",
    "\n",
    "algo = MyAlgo(cfg)\n",
    "```\n",
    "\n",
    "The `EpisodicAlgo` defines useful objects:\n",
    "\n",
    "- `algo.cfg` is the configuration\n",
    "- `algo.nb_steps` (integer) is the number of steps since the training began\n",
    "- `algo.logger` is a logger that can be used to collect statistics during training:\n",
    "    - `algo.logger.add_log(\"critic_loss\", critic_loss, algo.nb_steps)` registers the `critic_loss` value on tensorboard\n",
    "- `algo.evaluate()` evaluates the current `eval_policy` if needed, and keeps the\n",
    "agent if it was the best so far (average cumulated reward);\n",
    "- `algo.visualize_best()` runs the best agent on one episode, and displays the video\n",
    "\n",
    "\n",
    "\n",
    "Besides, it also defines an `iter_episodes` that allows to iterate over partial\n",
    "episodes (with `n_steps` from `n_envs` environments):\n",
    "\n",
    "```python3\n",
    "  # with partial episodes\n",
    "  for workspace in algo.iter_partial_episodes():\n",
    "      # workspace is a workspace containing 50 transitions\n",
    "      # (with autoreset)\n",
    "      ...\n",
    "```"
   ]
  },
  {
   "cell_type": "markdown",
   "id": "bd52901b",
   "metadata": {
    "lines_to_next_cell": 2
   },
   "source": [
    "## Definition of PPO agents\n",
    "\n",
    "### Critic agent\n",
    "\n",
    "As A2C, PPO uses a value function $V(s)$. We thus call upon the `VAgent`\n",
    "class,  which takes an observation as input and whose output is the value of\n",
    "this observation."
   ]
  },
  {
   "cell_type": "code",
   "execution_count": 2,
   "id": "bde509d2",
   "metadata": {
    "lines_to_next_cell": 2
   },
   "outputs": [],
   "source": [
    "class VAgent(Agent):\n",
    "    def __init__(self, state_dim, hidden_layers, name=\"critic\"):\n",
    "        super().__init__(name=name)\n",
    "        self.is_q_function = False\n",
    "        self.model = build_ortho_mlp(\n",
    "            [state_dim] + list(hidden_layers) + [1], activation=nn.ReLU()\n",
    "        )\n",
    "\n",
    "    def forward(self, t, **kwargs):\n",
    "        observation = self.get((\"env/env_obs\", t))\n",
    "        critic = self.model(observation).squeeze(-1)\n",
    "        self.set((f\"{self.prefix}v_values\", t), critic)"
   ]
  },
  {
   "cell_type": "markdown",
   "id": "b4518b95",
   "metadata": {
    "lines_to_next_cell": 2
   },
   "source": [
    "### KL penalty agent\n",
    "\n",
    "When computing the KL penalty, we need to compute the KL divergence at every\n",
    "time step. The KLAgent is specific to the KL regularization version of PPO. It\n",
    "is used to compute the KL divergence between the current and the past policy."
   ]
  },
  {
   "cell_type": "code",
   "execution_count": 3,
   "id": "d61be84d",
   "metadata": {
    "lines_to_next_cell": 2
   },
   "outputs": [],
   "source": [
    "class KLAgent(Agent):\n",
    "    def __init__(self, model_1, model_2):\n",
    "        super().__init__()\n",
    "        self.model_1 = model_1\n",
    "        self.model_2 = model_2\n",
    "\n",
    "    def forward(self, t, **kwargs):\n",
    "        obs = self.get((\"env/env_obs\", t))\n",
    "        dist_1 = self.model_1.dist(obs)\n",
    "        dist_2 = self.model_2.dist(obs)\n",
    "        kl = torch.distributions.kl.kl_divergence(dist_1, dist_2)\n",
    "        self.set((\"kl\", t), kl)"
   ]
  },
  {
   "cell_type": "markdown",
   "id": "e917e658",
   "metadata": {
    "lines_to_next_cell": 2
   },
   "source": [
    "### The DiscretePolicy\n",
    "\n",
    "The DiscretePolicy was already used in A2C to deal with discrete actions, but\n",
    "we have added the possibility to only predict the probability of an action\n",
    "using the ```predict_proba``` variable in the ```forward()``` function. The\n",
    "code is as follows."
   ]
  },
  {
   "cell_type": "code",
   "execution_count": 4,
   "id": "19b41d8a",
   "metadata": {
    "lines_to_next_cell": 2
   },
   "outputs": [],
   "source": [
    "class DiscretePolicy(Agent):\n",
    "    def __init__(self, state_dim, hidden_size, n_actions, name=\"policy\"):\n",
    "        super().__init__(name=name)\n",
    "        self.model = build_ortho_mlp(\n",
    "            [state_dim] + list(hidden_size) + [n_actions], activation=nn.ReLU()\n",
    "        )\n",
    "\n",
    "    def dist(self, obs):\n",
    "        scores = self.model(obs)\n",
    "        probs = torch.softmax(scores, dim=-1)\n",
    "        return torch.distributions.Categorical(probs)\n",
    "\n",
    "    def forward(\n",
    "        self,\n",
    "        t,\n",
    "        *,\n",
    "        stochastic=True,\n",
    "        predict_proba=False,\n",
    "        compute_entropy=False,\n",
    "        **kwargs,\n",
    "    ):\n",
    "        \"\"\"\n",
    "        Compute the action given either a time step (looking into the workspace)\n",
    "        or an observation (in kwargs)\n",
    "        \"\"\"\n",
    "        observation = self.get((\"env/env_obs\", t))\n",
    "        scores = self.model(observation)\n",
    "        probs = torch.softmax(scores, dim=-1)\n",
    "\n",
    "        if predict_proba:\n",
    "            action = self.get((\"action\", t))\n",
    "            log_probs = probs[torch.arange(probs.size()[0]), action].log()\n",
    "            self.set((f\"{self.prefix}logprob_predict\", t), log_probs)\n",
    "        else:\n",
    "            if stochastic:\n",
    "                action = torch.distributions.Categorical(probs).sample()\n",
    "            else:\n",
    "                action = scores.argmax(1)\n",
    "\n",
    "            self.set((\"action\", t), action)\n",
    "\n",
    "        if compute_entropy:\n",
    "            entropy = torch.distributions.Categorical(probs).entropy()\n",
    "            self.set((f\"{self.prefix}entropy\", t), entropy)"
   ]
  },
  {
   "cell_type": "markdown",
   "id": "39c71668",
   "metadata": {
    "lines_to_next_cell": 2
   },
   "source": [
    "### Main PPO agent\n",
    "\n",
    "In the following, we create the PPO Agent, with one policy and one critic,\n",
    "and their \"delayed\" versions (target network for the critic, and previous \n",
    "policy in the inner loop of the optimization)."
   ]
  },
  {
   "cell_type": "code",
   "execution_count": 5,
   "id": "463f6721",
   "metadata": {
    "lines_to_next_cell": 2
   },
   "outputs": [],
   "source": [
    "class PPOPenalty(EpisodicAlgo):\n",
    "    def __init__(self, cfg):\n",
    "        super().__init__(cfg, autoreset=True)\n",
    "\n",
    "        obs_size, act_size = self.train_env.get_obs_and_actions_sizes()\n",
    "        self.train_policy = globals()[cfg.algorithm.policy_type](\n",
    "            obs_size,\n",
    "            cfg.algorithm.architecture.actor_hidden_size,\n",
    "            act_size,\n",
    "        ).with_prefix(\"current_policy/\")\n",
    "        self.eval_policy = KWAgentWrapper(\n",
    "            self.train_policy, \n",
    "            stochastic=False,\n",
    "            predict_proba=False,\n",
    "            compute_entropy=False,\n",
    "        )\n",
    "\n",
    "        self.critic_agent = VAgent(\n",
    "            obs_size, cfg.algorithm.architecture.critic_hidden_size\n",
    "        ).with_prefix(\"critic/\")\n",
    "        self.old_critic_agent = copy.deepcopy(self.critic_agent).with_prefix(\"old_critic/\")\n",
    "        self.t_all_critics = TemporalAgent(\n",
    "            Agents(self.critic_agent, self.old_critic_agent)\n",
    "        )\n",
    "\n",
    "        self.old_policy = copy.deepcopy(self.train_policy)\n",
    "        self.old_policy.with_prefix(\"old_policy/\")\n",
    "        \n",
    "        self.t_kl_agent = TemporalAgent(KLAgent(self.old_policy, self.train_policy))\n",
    "\n",
    "        self.policy_optimizer = setup_optimizer(\n",
    "            cfg.optimizer, self.train_policy\n",
    "        )\n",
    "        self.critic_optimizer = setup_optimizer(\n",
    "            cfg.optimizer, self.critic_agent\n",
    "        )\n",
    "        "
   ]
  },
  {
   "cell_type": "markdown",
   "id": "84b557e9",
   "metadata": {
    "lines_to_next_cell": 2
   },
   "source": [
    "### Main PPO loop\n",
    "\n",
    "In the cell below, we optimize the policy loss for PPO-KL, i.e.\n",
    "$$\n",
    "\\max_{\\theta} \\hat{\\mathbb{E}} _t\\left[\\frac{\\pi_\\theta\\left(a_t \\mid s_t\\right)}{\\pi_{\\theta_{\\text {old }}}\\left(a_t \\mid s_t\\right)} \\hat{A}_t-\\beta \\operatorname{KL}\\left[\\pi_{\\theta_{\\text {old }}}\\left(\\cdot \\mid s_t\\right), \\pi_\\theta\\left(\\cdot \\mid s_t\\right)\\right]\\right]\n",
    "$$"
   ]
  },
  {
   "cell_type": "code",
   "execution_count": 49,
   "id": "2dd63705",
   "metadata": {
    "lines_to_next_cell": 2
   },
   "outputs": [],
   "source": [
    "from bbrl.utils.functional import gae\n",
    "\n",
    "\n",
    "def run_ppo_penalty(ppo: PPOPenalty):\n",
    "    cfg = ppo.cfg\n",
    "\n",
    "    # The old_policy params must be wrapped into a TemporalAgent\n",
    "    t_old_policy = TemporalAgent(ppo.old_policy)\n",
    "\n",
    "    # Training loop\n",
    "    for train_workspace in ppo.iter_partial_episodes():\n",
    "        # Run the current policy and evaluate the proba of its action according\n",
    "        # to the old policy The old_policy can be run after the train_agent on\n",
    "        # the same workspace because it writes a logprob_predict and not an\n",
    "        # action. That is, it does not determine the action of the old_policy,\n",
    "        # it just determines the proba of the action of the current policy given\n",
    "        # its own probabilities\n",
    "\n",
    "        # Compute the critic value over the whole workspace\n",
    "        ppo.t_all_critics(train_workspace, t=0, n_steps=cfg.algorithm.n_steps)\n",
    "\n",
    "        ws_terminated, ws_reward, ws_v_value, ws_old_v_value = train_workspace[\n",
    "            \"env/terminated\",\n",
    "            \"env/reward\",\n",
    "            \"critic/v_values\",\n",
    "            \"old_critic/v_values\",\n",
    "        ]\n",
    "\n",
    "        # --- Critic optimization\n",
    "\n",
    "        # Avoids to extreme V-values (helps stability)\n",
    "        if cfg.algorithm.clip_range_vf > 0:\n",
    "            # Clip the difference between old and new values\n",
    "            # NOTE: this depends on the reward scaling\n",
    "            ws_v_value = ws_old_v_value + torch.clamp(\n",
    "                ws_v_value - ws_old_v_value,\n",
    "                -cfg.algorithm.clip_range_vf,\n",
    "                cfg.algorithm.clip_range_vf,\n",
    "            )\n",
    "\n",
    "        # Compute the advantage using the (clamped) critic values\n",
    "        with torch.no_grad():\n",
    "            advantage = gae(\n",
    "                ws_reward[1:],\n",
    "                ws_v_value[1:],\n",
    "                ~ws_terminated[1:],\n",
    "                ws_v_value[:-1],\n",
    "                cfg.algorithm.discount_factor,\n",
    "                cfg.algorithm.gae,\n",
    "            )\n",
    "        \n",
    "        # Compute the critic loss with TD(0)\n",
    "        target = ws_reward[1:] + cfg.algorithm.discount_factor * ws_old_v_value[1:].detach() * (1 - ws_terminated[1:].int())\n",
    "        critic_loss = torch.nn.functional.mse_loss(ws_v_value[:-1], target) * cfg.algorithm.critic_coef\n",
    "        ppo.critic_optimizer.zero_grad()\n",
    "        critic_loss.backward()\n",
    "        torch.nn.utils.clip_grad_norm_(\n",
    "            ppo.critic_agent.parameters(), cfg.algorithm.max_grad_norm\n",
    "        )\n",
    "        ppo.critic_optimizer.step()\n",
    "        \n",
    "        # --- Policy optimization\n",
    "\n",
    "        # We store the advantage into the train_workspace\n",
    "        if cfg.algorithm.normalize_advantage and advantage.shape[1] > 1:\n",
    "            advantage = (advantage - advantage.mean()) / (advantage.std() + 1e-8)\n",
    "        train_workspace.set_full(\"advantage\", torch.cat(\n",
    "            (advantage, torch.zeros(1, advantage.shape[1]))\n",
    "        ))\n",
    "\n",
    "        with torch.no_grad():\n",
    "            # Just computes the probability of the old policy's action\n",
    "            # to get the ratio of probabilities\n",
    "            t_old_policy(\n",
    "                train_workspace,\n",
    "                t=0,\n",
    "                n_steps=cfg.algorithm.n_steps,\n",
    "                predict_proba=True,\n",
    "                compute_entropy=True,\n",
    "            )\n",
    "\n",
    "        transition_workspace = train_workspace.get_transitions()\n",
    "        for opt_epoch in range(cfg.algorithm.opt_epochs):\n",
    "            if cfg.algorithm.batch_size > 0:\n",
    "                sample_workspace = transition_workspace.select_batch_n(\n",
    "                    cfg.algorithm.batch_size\n",
    "                )\n",
    "            else:\n",
    "                sample_workspace = transition_workspace\n",
    "\n",
    "########################################################################################################################\n",
    "            # Compute the policy loss\n",
    "\n",
    "            # Compute the KL divergence\n",
    "            ppo.t_kl_agent(sample_workspace, t=0, n_steps=2)\n",
    "            kl = sample_workspace[\"kl\"]\n",
    "            # Compute the probability of the played actions according to the current policy\n",
    "            # We do not replay the action: we use the one stored into the dataset\n",
    "            # Note that the policy is not wrapped into a TemporalAgent, but we use a single step\n",
    "            # to get the log probability of the action\n",
    "            ppo.train_policy(\n",
    "                sample_workspace,\n",
    "                t=1,\n",
    "                n_steps=cfg.algorithm.n_steps,\n",
    "                predict_proba=True,\n",
    "                compute_entropy=True\n",
    "            )\n",
    "\n",
    "            #Compute the ratio of action probabilities\n",
    "            # print(sample_workspace)\n",
    "            ratio = (sample_workspace[\"current_policy/logprob_predict\"] - sample_workspace[\"old_policy/logprob_predict\"]).exp()\n",
    "\n",
    "            # Compute the policy loss\n",
    "            policy_advantage = sample_workspace[\"advantage\"]\n",
    "            policy_loss = torch.mean(ratio * policy_advantage - cfg.algorithm.beta * kl)\n",
    "            # assert False, 'Not implemented yet'\n",
    "########################################################################################################################\n",
    "\n",
    "\n",
    "            loss_policy = -cfg.algorithm.policy_coef * policy_loss\n",
    "\n",
    "            # Entropy loss favors exploration\n",
    "            # Note that the standard PPO algorithms do not have an entropy term, they don't need it\n",
    "            # because the KL term is supposed to deal with exploration\n",
    "            # So, to run the standard PPO algorithm, you should set cfg.algorithm.entropy_coef=0\n",
    "            entropy = sample_workspace[\"current_policy/entropy\"] #######################################################################\n",
    "            assert len(entropy) == 1, f\"{entropy.shape}\"\n",
    "            entropy_loss = entropy[0].mean()\n",
    "            loss_entropy = -cfg.algorithm.entropy_coef * entropy_loss\n",
    "\n",
    "            # Store the losses for tensorboard display\n",
    "            ppo.logger.log_losses(critic_loss, entropy_loss, policy_loss, ppo.nb_steps)\n",
    "            ppo.logger.add_log(\"advantage\", policy_advantage.mean(), ppo.nb_steps)\n",
    "\n",
    "            ppo.policy_optimizer.zero_grad()\n",
    "            loss = loss_policy + loss_entropy\n",
    "            loss.backward()\n",
    "            torch.nn.utils.clip_grad_norm_(\n",
    "                ppo.train_policy.parameters(), cfg.algorithm.max_grad_norm\n",
    "            )\n",
    "            ppo.policy_optimizer.step()\n",
    "\n",
    "        # Copy parameters\n",
    "        copy_parameters(ppo.train_policy, ppo.old_policy)\n",
    "        copy_parameters(ppo.critic_agent, ppo.old_critic_agent)\n",
    "        \n",
    "        # Evaluate\n",
    "        ppo.evaluate()"
   ]
  },
  {
   "cell_type": "markdown",
   "id": "debd4e00",
   "metadata": {
    "lines_to_next_cell": 2
   },
   "source": [
    "## Definition of the parameters"
   ]
  },
  {
   "cell_type": "code",
   "execution_count": 36,
   "id": "e502e866",
   "metadata": {},
   "outputs": [],
   "source": [
    "params = {\n",
    "    \"base_dir\": \"${gym_env.env_name}/ppo-kl-S${algorithm.seed}-b${algorithm.beta}_${current_time:}\",\n",
    "    \"save_best\": False,\n",
    "    \"algorithm\": {\n",
    "        \"seed\": 12,\n",
    "        \"n_envs\": 8,\n",
    "        \"n_steps\": 32,\n",
    "        \"normalize_advantage\": False,\n",
    "        \"eval_interval\": 1000,\n",
    "        \"nb_evals\": 10,\n",
    "        \"gae\": 0.8,\n",
    "        \"discount_factor\": 0.98,\n",
    "        \"opt_epochs\": 10,\n",
    "        \"batch_size\": 256,\n",
    "        \"max_grad_norm\": 0.5,\n",
    "        \"policy_coef\": 1.,\n",
    "        \"beta\": 5.0,\n",
    "        \"clip_range_vf\": 0,\n",
    "        \"entropy_coef\": 2e-7,\n",
    "        \"critic_coef\": 1.0,\n",
    "        \"policy_type\": \"DiscretePolicy\",\n",
    "        \"architecture\": {\n",
    "            \"actor_hidden_size\": [64, 64],\n",
    "            \"critic_hidden_size\": [64, 64],\n",
    "        },\n",
    "        \"max_epochs\": 2000,\n",
    "    },\n",
    "    \"gym_env\": {\n",
    "        \"env_name\": \"CartPole-v1\",\n",
    "    },\n",
    "    \"optimizer\": {\n",
    "        \"classname\": \"torch.optim.Adam\",\n",
    "        \"lr\": 1e-3,\n",
    "        \"eps\": 1e-5,\n",
    "    },\n",
    "}\n"
   ]
  },
  {
   "cell_type": "markdown",
   "id": "162b31fe",
   "metadata": {},
   "source": [
    "### Launching tensorboard to visualize the results"
   ]
  },
  {
   "cell_type": "code",
   "execution_count": 8,
   "id": "8366054f",
   "metadata": {},
   "outputs": [
    {
     "data": {
      "text/plain": [
       "Reusing TensorBoard on port 6006 (pid 10818), started 13 days, 22:42:31 ago. (Use '!kill 10818' to kill it.)"
      ]
     },
     "metadata": {},
     "output_type": "display_data"
    },
    {
     "data": {
      "text/html": [
       "\n",
       "      <iframe id=\"tensorboard-frame-adbe9ad5cee1e4d\" width=\"100%\" height=\"800\" frameborder=\"0\">\n",
       "      </iframe>\n",
       "      <script>\n",
       "        (function() {\n",
       "          const frame = document.getElementById(\"tensorboard-frame-adbe9ad5cee1e4d\");\n",
       "          const url = new URL(\"http://localhost\");\n",
       "          const port = 6006;\n",
       "          if (port) {\n",
       "            url.port = port;\n",
       "          }\n",
       "          frame.src = url;\n",
       "        })();\n",
       "      </script>\n",
       "    "
      ],
      "text/plain": [
       "<IPython.core.display.HTML object>"
      ]
     },
     "metadata": {},
     "output_type": "display_data"
    }
   ],
   "source": [
    "setup_tensorboard(\"./outputs/tblogs\")"
   ]
  },
  {
   "cell_type": "code",
   "execution_count": 50,
   "id": "918d6f7c",
   "metadata": {},
   "outputs": [
    {
     "data": {
      "application/vnd.jupyter.widget-view+json": {
       "model_id": "e647818130bf4f68ab84cd5cd9eb7267",
       "version_major": 2,
       "version_minor": 0
      },
      "text/plain": [
       "  0%|          | 0/2000 [00:00<?, ?it/s]"
      ]
     },
     "metadata": {},
     "output_type": "display_data"
    }
   ],
   "source": [
    "cfg = OmegaConf.create(params)\n",
    "ppo_kl = PPOPenalty(cfg)\n",
    "run_ppo_penalty(ppo_kl)"
   ]
  },
  {
   "cell_type": "code",
   "execution_count": 51,
   "id": "cc37f6b2",
   "metadata": {},
   "outputs": [
    {
     "name": "stdout",
     "output_type": "stream",
     "text": [
      "Video of best agent recorded in outputs/CartPole-v1/ppo-kl-S12-b5.0_20241021-212326/best_agent.mp4\n",
      "Moviepy - Building video /home/wujinyi/sorbonnefile/RLD/outputs/CartPole-v1/ppo-kl-S12-b5.0_20241021-212326/best_agent.mp4.\n",
      "Moviepy - Writing video /home/wujinyi/sorbonnefile/RLD/outputs/CartPole-v1/ppo-kl-S12-b5.0_20241021-212326/best_agent.mp4\n",
      "\n"
     ]
    },
    {
     "name": "stderr",
     "output_type": "stream",
     "text": [
      "                                                               \r"
     ]
    },
    {
     "name": "stdout",
     "output_type": "stream",
     "text": [
      "Moviepy - Done !\n",
      "Moviepy - video ready /home/wujinyi/sorbonnefile/RLD/outputs/CartPole-v1/ppo-kl-S12-b5.0_20241021-212326/best_agent.mp4\n"
     ]
    },
    {
     "data": {
      "text/html": [
       "<div align=middle><video src='data:video/mp4;base64,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' controls>Sorry, seems like your browser doesn't support HTML5 audio/video</video></div>"
      ],
      "text/plain": [
       "<moviepy.video.io.html_tools.HTML2 object>"
      ]
     },
     "execution_count": 51,
     "metadata": {},
     "output_type": "execute_result"
    }
   ],
   "source": [
    "ppo_kl.visualize_best()"
   ]
  },
  {
   "cell_type": "code",
   "execution_count": null,
   "id": "d0be1d8d",
   "metadata": {},
   "outputs": [],
   "source": []
  }
 ],
 "metadata": {
  "jupytext": {
   "cell_markers": "\"\"\""
  },
  "kernelspec": {
   "display_name": "Python (deepdac)",
   "language": "python",
   "name": "deepdac"
  },
  "language_info": {
   "codemirror_mode": {
    "name": "ipython",
    "version": 3
   },
   "file_extension": ".py",
   "mimetype": "text/x-python",
   "name": "python",
   "nbconvert_exporter": "python",
   "pygments_lexer": "ipython3",
   "version": "3.9.19"
  }
 },
 "nbformat": 4,
 "nbformat_minor": 5
}
